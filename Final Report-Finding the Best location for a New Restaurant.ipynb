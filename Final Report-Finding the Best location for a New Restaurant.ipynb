{
    "nbformat_minor": 1, 
    "cells": [
        {
            "source": "# Final Report - Finding the Best Location for a Restaurant", 
            "cell_type": "markdown", 
            "metadata": {
                "collapsed": true
            }
        }, 
        {
            "source": "## Introduction", 
            "cell_type": "markdown", 
            "metadata": {}
        }, 
        {
            "source": "My idea is to open a new restaurant in a specific location, which would be quite challenging as it requires a lot of capital investment upfront and many other factors. So it is important that all measures are taken to ensure that a restaurant is a success. One of the important factors that determine the success of a restaurant is it's location along with the quality of service and cuisines serviced in it", 
            "cell_type": "markdown", 
            "metadata": {}
        }, 
        {
            "source": "## Business Problem:-\n\nIn my report I'm going to focus on problems one might face while opening a new restaurant. Well there are many factors to be considered to open a small or big level business. For example say Mr Paul wants to open a Indian restaurant, first and foremost important point to decide is the location for his new restaurant. \n\n### Questions/Business Problems: \n\n1) On what basis can Paul decide his restaurant's location? \n\n2) Does Paul want to rent the place or can he afford to buy it? \n\n3) While selecting the place there are key points to consider like he needs to check out how many Indian restaurants are there in that specific location? If in-case there are already two Indian restaurants which have good ratings, will it be risky to open new one near these restaurants? \n\n4) What all factors will help Paul to run his business above average? \n\n", 
            "cell_type": "markdown", 
            "metadata": {}
        }, 
        {
            "source": "## Discussion:-\n\nLet's discuss the above mentioned Questions/ Business Problems. Firstly Paul needs to choose a suitable location for his restaurant. Let's say Paul wants to open a new Indian Restaurant in San Francisco. San Francisco is a famous tourist place, and also its in silicon valley, because of that real estate is very costly. So assuming that Paul wants to rent a place for his new restaurant. And now he needs to figure out how many restaurants are there in the neighborhood. If there are more than two Indian restaurants in a neighborhood then that would be a great risk to open new restaurant of same cuisine in that neighborhood. \n\nChoosing a place where there is less or no restaurant would be of great choice, considering the rent of neighborhood too. Why I'm emphasing that there should be less restaurants is, so that Paul will face less competition with same cuisine restaurants. He needs to look for a place where many people frequently visit so that his business is above average. \n\nPlaces like Downtown, Movie theatre, Malls & Gas stations would help his business running. Restaurants ratings, checking of customers might help in deciding location crowd. I would also suggest that Paul should check for opening and closing timings of othis restaurants. He may try opening his place 30 mins before other restaurants open up and close 30 mins or 1 hour later than other restaurants, this might help to get more customers.\n\n", 
            "cell_type": "markdown", 
            "metadata": {}
        }, 
        {
            "source": "## Data:-\nAs Paul is planning to open a restaurant in San Francisco, and assuming that he is going to rent a place. So first I took the rent dataset from (https://web.archive.org/web/20180822060556/https://www.rentcafe.com/average-rent-market-trends/us/ca/san-francisco/ , https://www.zillow.com/research/data/) according to neighborhood wise, so that it's easy for us to check the rent data neighborhood wise.I have cleaned the dataset and I'm going to compare the rent data this year as we just need to analyse the current rent range. Since from the webpages I didn't get all neighborhood's rent data, I planned to test only for the data I have retrieved.\n", 
            "cell_type": "markdown", 
            "metadata": {}
        }, 
        {
            "execution_count": 2, 
            "cell_type": "code", 
            "metadata": {}, 
            "outputs": [
                {
                    "execution_count": 2, 
                    "metadata": {}, 
                    "data": {
                        "text/html": "<div>\n<style scoped>\n    .dataframe tbody tr th:only-of-type {\n        vertical-align: middle;\n    }\n\n    .dataframe tbody tr th {\n        vertical-align: top;\n    }\n\n    .dataframe thead th {\n        text-align: right;\n    }\n</style>\n<table border=\"1\" class=\"dataframe\">\n  <thead>\n    <tr style=\"text-align: right;\">\n      <th></th>\n      <th>Neighborhood</th>\n      <th>City</th>\n      <th>State</th>\n      <th>2018</th>\n    </tr>\n  </thead>\n  <tbody>\n    <tr>\n      <th>0</th>\n      <td>Hayes Valley</td>\n      <td>San Francisco</td>\n      <td>CA</td>\n      <td>3030</td>\n    </tr>\n    <tr>\n      <th>1</th>\n      <td>Van Ness - Civic Center</td>\n      <td>San Francisco</td>\n      <td>CA</td>\n      <td>2977</td>\n    </tr>\n    <tr>\n      <th>2</th>\n      <td>Tenderloin</td>\n      <td>San Francisco</td>\n      <td>CA</td>\n      <td>2977</td>\n    </tr>\n    <tr>\n      <th>3</th>\n      <td>Downtown</td>\n      <td>San Francisco</td>\n      <td>CA</td>\n      <td>3040</td>\n    </tr>\n    <tr>\n      <th>4</th>\n      <td>Western Addition</td>\n      <td>San Francisco</td>\n      <td>CA</td>\n      <td>2989</td>\n    </tr>\n  </tbody>\n</table>\n</div>", 
                        "text/plain": "              Neighborhood           City State  2018\n0             Hayes Valley  San Francisco    CA  3030\n1  Van Ness - Civic Center  San Francisco    CA  2977\n2               Tenderloin  San Francisco    CA  2977\n3                 Downtown  San Francisco    CA  3040\n4         Western Addition  San Francisco    CA  2989"
                    }, 
                    "output_type": "execute_result"
                }
            ], 
            "source": "# The code was removed by Watson Studio for sharing."
        }, 
        {
            "source": "I'm going to use the below formula to find which neighborhood is good to open a new restaurant.\n\nfinalScore = (rentScore)0.6+(ratingScore)0.4 -> Closer the finalScore value to 1, better choice of neighborhood.\n\nNow let's see what is RentScore and RatingScore means.\n\nRentScore can be calculated by (maxrentofneighborhood-currentrentofneighborhood)/(maxrentofneighborhood-minrentofneighborhood).rentScore value for each neighborhood can be obtained from above rent dataset. \nRatingScore can be calculated by (maxgoodrest-currentrestratingofN)/(maxgoodrest-mingoodrest). ratingScore can be calculated after retrieving information from Foursquare location.\n\n", 
            "cell_type": "markdown", 
            "metadata": {}
        }, 
        {
            "source": "\n", 
            "cell_type": "markdown", 
            "metadata": {}
        }, 
        {
            "source": "### Methdology:-\n\nTo calculate the formula first let's calucate the rentScore. From above rentScore formula we need maximum and minimum rent of neighborhood. Maximum and minimum values can be retrieved using max and min built in functions.\n\nmaxrentofN = max(dataframename['rentcolumn'])\nminrentofN = min(dataframename['rentcolumn'])\n", 
            "cell_type": "markdown", 
            "metadata": {}
        }, 
        {
            "source": "#### To show examples in my report, Below I have shown few results of Neighborhood and Rent score extracted from my resultset. The Result set is available in my Github Reposistory", 
            "cell_type": "markdown", 
            "metadata": {}
        }, 
        {
            "execution_count": 4, 
            "cell_type": "code", 
            "metadata": {}, 
            "outputs": [
                {
                    "execution_count": 4, 
                    "metadata": {}, 
                    "data": {
                        "text/html": "<div>\n<style scoped>\n    .dataframe tbody tr th:only-of-type {\n        vertical-align: middle;\n    }\n\n    .dataframe tbody tr th {\n        vertical-align: top;\n    }\n\n    .dataframe thead th {\n        text-align: right;\n    }\n</style>\n<table border=\"1\" class=\"dataframe\">\n  <thead>\n    <tr style=\"text-align: right;\">\n      <th></th>\n      <th>Neighborhood</th>\n      <th>RentScore</th>\n    </tr>\n  </thead>\n  <tbody>\n    <tr>\n      <th>0</th>\n      <td>Hayes Valley</td>\n      <td>0.635854</td>\n    </tr>\n    <tr>\n      <th>1</th>\n      <td>Van Ness - Civic Center</td>\n      <td>0.685341</td>\n    </tr>\n    <tr>\n      <th>2</th>\n      <td>Tenderloin</td>\n      <td>0.685341</td>\n    </tr>\n    <tr>\n      <th>3</th>\n      <td>Downtown</td>\n      <td>0.626517</td>\n    </tr>\n    <tr>\n      <th>4</th>\n      <td>Western Addition</td>\n      <td>0.674136</td>\n    </tr>\n  </tbody>\n</table>\n</div>", 
                        "text/plain": "              Neighborhood  RentScore\n0             Hayes Valley   0.635854\n1  Van Ness - Civic Center   0.685341\n2               Tenderloin   0.685341\n3                 Downtown   0.626517\n4         Western Addition   0.674136"
                    }, 
                    "output_type": "execute_result"
                }
            ], 
            "source": "\nbody = client_ea0bb5af74c549a0b73c7c3b43d47654.get_object(Bucket='datascience-donotdelete-pr-rolyv6pfdwbuhv',Key='ResultsSheet.csv')['Body']\n# add missing __iter__ method, so pandas accepts body as file-like object\nif not hasattr(body, \"__iter__\"): body.__iter__ = types.MethodType( __iter__, body )\n\nresults = pd.read_csv(body)\nrent_Score = results[['Neighborhood' , 'RentScore']]\nrent_Score.head()\n\n"
        }, 
        {
            "source": "Now, in order to calculate ratingScore, we need to retrieve rating of each Indian restaurant neighborhood-wise. So let's the analyse data. Firstly we need the co-ordinates of the neighborhood's, co-ordinates or latitude & longitude can be obtained by passing the Neighborhood name value through geocoding. The restaurant details can be retrieved using search endpoint of foursquare location. \n\nFor our project we need only Indian restaurant data, and in search endpoint there is a attribute called category id, i.e for each category(like Indian or Italian or Mexican Restaurant) foursquare has a defined categoryid which will help us to get the desired data. In this search response, we'll retrieve the venue id of all the Indian venues. And then pass this venue id's through venue_id endpoint to get rating of each Indian restaurant. Let's save the data in a dataframe, for further testing.\n\nNow we need to select a neighborhood in which we have to reduce the competition for our new restaurant, hence we should test with only good rating restaurants. For this I'm going to consider restaurants which have rating greater than or equal to 7 in foursquare.\n", 
            "cell_type": "markdown", 
            "metadata": {}
        }, 
        {
            "execution_count": 5, 
            "cell_type": "code", 
            "metadata": {}, 
            "outputs": [
                {
                    "execution_count": 5, 
                    "metadata": {}, 
                    "data": {
                        "text/html": "<div>\n<style scoped>\n    .dataframe tbody tr th:only-of-type {\n        vertical-align: middle;\n    }\n\n    .dataframe tbody tr th {\n        vertical-align: top;\n    }\n\n    .dataframe thead th {\n        text-align: right;\n    }\n</style>\n<table border=\"1\" class=\"dataframe\">\n  <thead>\n    <tr style=\"text-align: right;\">\n      <th></th>\n      <th>Neighborhood</th>\n      <th>GoodRatingRestaurant</th>\n    </tr>\n  </thead>\n  <tbody>\n    <tr>\n      <th>0</th>\n      <td>Hayes Valley</td>\n      <td>2</td>\n    </tr>\n    <tr>\n      <th>1</th>\n      <td>Van Ness - Civic Center</td>\n      <td>3</td>\n    </tr>\n    <tr>\n      <th>2</th>\n      <td>Tenderloin</td>\n      <td>8</td>\n    </tr>\n    <tr>\n      <th>3</th>\n      <td>Downtown</td>\n      <td>6</td>\n    </tr>\n    <tr>\n      <th>4</th>\n      <td>Western Addition</td>\n      <td>0</td>\n    </tr>\n  </tbody>\n</table>\n</div>", 
                        "text/plain": "              Neighborhood  GoodRatingRestaurant\n0             Hayes Valley                     2\n1  Van Ness - Civic Center                     3\n2               Tenderloin                     8\n3                 Downtown                     6\n4         Western Addition                     0"
                    }, 
                    "output_type": "execute_result"
                }
            ], 
            "source": "results[['Neighborhood' , 'GoodRatingRestaurant']].head()"
        }, 
        {
            "source": "\nAfter getting counts of good rating restaurant in each neighborhood, we can calculate our rentRating now. Max and min can be calculated using respective functions.\n\nTo calculate the formula first let's calucate the rentScore. From above rentScore formula we need maximum and minimum rent of neighborhood. Maximum and minimum values can be retrieved using max and min built in functions.\n\nmaxrentofN = max(dataframename['rentcolumn'])\n\nminrentofN = min(dataframename['rentcolumn'])\n\nThus now we can calculate ratingScore using the formula ratingScore = (maxgoodrest-currentrestratingofN)/(maxgoodrest-mingoodrest).\n\nOnce we have rentScore and ratingScore we can use our formula to calculate the finalScore.", 
            "cell_type": "markdown", 
            "metadata": {}
        }, 
        {
            "source": "### Result:-\nBelow is the result of my formula which I used to analyze best neighborhood's for new Indian restaurant. If you see carefully I have listed Neighborhood's which has Finalscore greater or equal to 0.8", 
            "cell_type": "markdown", 
            "metadata": {}
        }, 
        {
            "execution_count": 9, 
            "cell_type": "code", 
            "metadata": {}, 
            "outputs": [
                {
                    "execution_count": 9, 
                    "metadata": {}, 
                    "data": {
                        "text/html": "<div>\n<style scoped>\n    .dataframe tbody tr th:only-of-type {\n        vertical-align: middle;\n    }\n\n    .dataframe tbody tr th {\n        vertical-align: top;\n    }\n\n    .dataframe thead th {\n        text-align: right;\n    }\n</style>\n<table border=\"1\" class=\"dataframe\">\n  <thead>\n    <tr style=\"text-align: right;\">\n      <th></th>\n      <th>Neighborhood</th>\n      <th>2018-07</th>\n      <th>Latitude</th>\n      <th>Longitude</th>\n      <th>RentScore</th>\n      <th>GoodRatingRestaurant</th>\n      <th>RatingScore</th>\n      <th>FinalScore</th>\n    </tr>\n  </thead>\n  <tbody>\n    <tr>\n      <th>11</th>\n      <td>Stonestown</td>\n      <td>2640</td>\n      <td>37.727446</td>\n      <td>-122.474895</td>\n      <td>1.000000</td>\n      <td>0</td>\n      <td>1.000</td>\n      <td>1.000000</td>\n    </tr>\n    <tr>\n      <th>12</th>\n      <td>Merced Heights</td>\n      <td>2640</td>\n      <td>37.717507</td>\n      <td>-122.470281</td>\n      <td>1.000000</td>\n      <td>0</td>\n      <td>1.000</td>\n      <td>1.000000</td>\n    </tr>\n    <tr>\n      <th>13</th>\n      <td>Lakeside</td>\n      <td>2640</td>\n      <td>37.731967</td>\n      <td>-122.474257</td>\n      <td>1.000000</td>\n      <td>0</td>\n      <td>1.000</td>\n      <td>1.000000</td>\n    </tr>\n    <tr>\n      <th>10</th>\n      <td>Noe Valley</td>\n      <td>2818</td>\n      <td>37.751591</td>\n      <td>-122.432081</td>\n      <td>0.833800</td>\n      <td>1</td>\n      <td>0.875</td>\n      <td>0.850280</td>\n    </tr>\n    <tr>\n      <th>5</th>\n      <td>Marina</td>\n      <td>2948</td>\n      <td>37.799793</td>\n      <td>-122.435205</td>\n      <td>0.712418</td>\n      <td>0</td>\n      <td>1.000</td>\n      <td>0.827450</td>\n    </tr>\n    <tr>\n      <th>19</th>\n      <td>Glen Park</td>\n      <td>2967</td>\n      <td>37.733108</td>\n      <td>-122.433784</td>\n      <td>0.694678</td>\n      <td>0</td>\n      <td>1.000</td>\n      <td>0.816807</td>\n    </tr>\n    <tr>\n      <th>9</th>\n      <td>Pacific Heights</td>\n      <td>2973</td>\n      <td>37.792717</td>\n      <td>-122.435644</td>\n      <td>0.689076</td>\n      <td>0</td>\n      <td>1.000</td>\n      <td>0.813445</td>\n    </tr>\n    <tr>\n      <th>4</th>\n      <td>Western Addition</td>\n      <td>2989</td>\n      <td>37.779559</td>\n      <td>-122.429810</td>\n      <td>0.674136</td>\n      <td>0</td>\n      <td>1.000</td>\n      <td>0.804482</td>\n    </tr>\n  </tbody>\n</table>\n</div>", 
                        "text/plain": "        Neighborhood  2018-07   Latitude   Longitude  RentScore  \\\n11        Stonestown     2640  37.727446 -122.474895   1.000000   \n12    Merced Heights     2640  37.717507 -122.470281   1.000000   \n13          Lakeside     2640  37.731967 -122.474257   1.000000   \n10        Noe Valley     2818  37.751591 -122.432081   0.833800   \n5             Marina     2948  37.799793 -122.435205   0.712418   \n19         Glen Park     2967  37.733108 -122.433784   0.694678   \n9    Pacific Heights     2973  37.792717 -122.435644   0.689076   \n4   Western Addition     2989  37.779559 -122.429810   0.674136   \n\n    GoodRatingRestaurant  RatingScore  FinalScore  \n11                     0        1.000    1.000000  \n12                     0        1.000    1.000000  \n13                     0        1.000    1.000000  \n10                     1        0.875    0.850280  \n5                      0        1.000    0.827450  \n19                     0        1.000    0.816807  \n9                      0        1.000    0.813445  \n4                      0        1.000    0.804482  "
                    }, 
                    "output_type": "execute_result"
                }
            ], 
            "source": "results[(results['FinalScore'] >= 0.8)].sort_values('FinalScore', ascending=False)"
        }, 
        {
            "source": "### Conclusion:-\nThus, Now paul has more options to choose from.  As there are 3 Neighborhood's in above results which are best suited for Paul and it looks like there is no heavy competition, since there is no good rating restaurants and rent is also comparitively low according to our formula.", 
            "cell_type": "markdown", 
            "metadata": {}
        }
    ], 
    "metadata": {
        "kernelspec": {
            "display_name": "Python 3.5", 
            "name": "python3", 
            "language": "python"
        }, 
        "language_info": {
            "mimetype": "text/x-python", 
            "nbconvert_exporter": "python", 
            "version": "3.5.5", 
            "name": "python", 
            "file_extension": ".py", 
            "pygments_lexer": "ipython3", 
            "codemirror_mode": {
                "version": 3, 
                "name": "ipython"
            }
        }
    }, 
    "nbformat": 4
}